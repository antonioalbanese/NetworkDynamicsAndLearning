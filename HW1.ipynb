{
  "nbformat": 4,
  "nbformat_minor": 0,
  "metadata": {
    "colab": {
      "name": "HW1.ipynb",
      "provenance": [],
      "collapsed_sections": [],
      "authorship_tag": "ABX9TyPX4j2G/9AaP51VVQMABU3Z",
      "include_colab_link": true
    },
    "kernelspec": {
      "display_name": "Python 3",
      "name": "python3"
    },
    "language_info": {
      "name": "python"
    }
  },
  "cells": [
    {
      "cell_type": "markdown",
      "metadata": {
        "id": "view-in-github",
        "colab_type": "text"
      },
      "source": [
        "<a href=\"https://colab.research.google.com/github/antonioalbanese/NetworkDynamicsAndLearning/blob/main/HW1.ipynb\" target=\"_parent\"><img src=\"https://colab.research.google.com/assets/colab-badge.svg\" alt=\"Open In Colab\"/></a>"
      ]
    },
    {
      "cell_type": "markdown",
      "metadata": {
        "id": "AGnvzNFcXCo-"
      },
      "source": [
        "#Exercise 1"
      ]
    },
    {
      "cell_type": "code",
      "metadata": {
        "colab": {
          "base_uri": "https://localhost:8080/",
          "height": 248
        },
        "id": "-Po3_2hpQL1S",
        "outputId": "1da392b9-b44c-44eb-9e8a-57dd92fcbad7"
      },
      "source": [
        "import networkx as nx\n",
        "import matplotlib.pyplot as plt\n",
        "%matplotlib inline\n",
        "## creating and drawing the graph\n",
        "nodes = ['o', 'a', 'b', 'd']\n",
        "edges = [('o','a',{'capacity':3}), ('o','b',{'capacity':2}), ('a','b',{'capacity':2}), ('a','d',{'capacity':3}), ('b','d',{'capacity':2})]\n",
        "\n",
        "G = nx.DiGraph()\n",
        "G.add_nodes_from(nodes)\n",
        "G.add_edges_from(edges)\n",
        "pos = {'o': (40, 20), 'a': (60, 35), 'b': (60, 5), 'd': (80, 20)}\n",
        "labels = nx.get_edge_attributes(G,'capacity')\n",
        "\n",
        "plt.subplot(111)\n",
        "nx.draw_networkx_edge_labels(G, pos, edge_labels = labels)\n",
        "nx.draw(G, pos, with_labels=True, font_weight='normal')"
      ],
      "execution_count": 7,
      "outputs": [
        {
          "output_type": "display_data",
          "data": {
            "image/png": "[encoded data removed]",
            "text/plain": [
              "<Figure size 432x288 with 1 Axes>"
            ]
          },
          "metadata": {}
        }
      ]
    },
    {
      "cell_type": "markdown",
      "metadata": {
        "id": "8X9dXkjvUZAG"
      },
      "source": [
        "## Exercise 1.b"
      ]
    },
    {
      "cell_type": "code",
      "metadata": {
        "id": "S1Xv4VYeanPM",
        "colab": {
          "base_uri": "https://localhost:8080/"
        },
        "outputId": "88e95d23-282d-47ed-94d8-a9001b9aed19"
      },
      "source": [
        "#trying to change on (b,d)\n",
        "old = G['b']['d']['capacity']\n",
        "G['b']['d']['capacity'] = old + 1\n",
        "value, flows = nx.algorithms.flow.maximum_flow(G, 'o', 'd', capacity='capacity')\n",
        "print(\"Adding 1 to (b,d) -> max_flow = {}\".format(value))\n",
        "#revert\n",
        "G['b']['d']['capacity'] = old \n",
        "\n",
        "#trying to change on (o,a)\n",
        "old = G['o']['a']['capacity']\n",
        "G['o']['a']['capacity'] = old + 1\n",
        "value, flows = nx.algorithms.flow.maximum_flow(G, 'o', 'd', capacity='capacity')\n",
        "print(\"Adding 1 to (o,a) -> max_flow = {}\".format(value))\n",
        "#revert\n",
        "G['o']['a']['capacity'] = old \n",
        "\n",
        "#trying to change on (a,d)\n",
        "old = G['a']['d']['capacity']\n",
        "G['a']['d']['capacity'] = old + 1\n",
        "value, flows = nx.algorithms.flow.maximum_flow(G, 'o', 'd', capacity='capacity')\n",
        "print(\"Adding 1 to (a,d) -> max_flow = {}\".format(value))\n",
        "#revert\n",
        "G['a']['d']['capacity'] = old \n",
        "\n",
        "#trying to change on (o,b)\n",
        "old = G['o']['b']['capacity']\n",
        "G['o']['b']['capacity'] = old + 1\n",
        "value, flows = nx.algorithms.flow.maximum_flow(G, 'o', 'd', capacity='capacity')\n",
        "print(\"Adding 1 to (o,b) -> max_flow = {}\".format(value))\n",
        "#revert\n",
        "G['o']['b']['capacity'] = old "
      ],
      "execution_count": 2,
      "outputs": [
        {
          "output_type": "stream",
          "name": "stdout",
          "text": [
            "Adding 1 to (b,d) -> max_flow = 5\n",
            "Adding 1 to (o,a) -> max_flow = 5\n",
            "Adding 1 to (a,d) -> max_flow = 5\n",
            "Adding 1 to (o,b) -> max_flow = 5\n"
          ]
        }
      ]
    },
    {
      "cell_type": "markdown",
      "metadata": {
        "id": "_L6M0so_L9Xx"
      },
      "source": [
        "*Cuts:*\n",
        "- $U=\\{o,b,a\\},U^C=\\{d\\}$ -> $C_U = 5$\n",
        "- $U=\\{o,a\\},U^C=\\{b,d\\}$ -> $C_U = 7$\n",
        "- $U=\\{o,b\\},U^C=\\{a,d\\}$ -> $C_U = 5$\n",
        "- $U=\\{o\\},U^C=\\{a,b,d\\}$ -> $C_U = 5$\n",
        "\n",
        "There are three mincuts, whose capacity is 5. \n",
        "- For the mincut $U=\\{o,b,a\\},U^C=\\{d\\}$,\n",
        "$$\n",
        "C_U = c(b,d) + c(a,d)\n",
        "$$ \n",
        "- For the mincut $U=\\{o,b\\},U^C=\\{a,d\\}$,\n",
        "$$\n",
        "C_U = c(o,a) + c(b,d)\n",
        "$$ \n",
        "- For the mincut $U=\\{o\\},U^C=\\{a,b,d\\}$,\n",
        "$$\n",
        "C_U = c(o,a) + c(o,b)\n",
        "$$ \n",
        "\n",
        "Indipendently from where we apply one more unit of capacity the max throughput cannot be improved.\n",
        "\n",
        "\n",
        "\n"
      ]
    },
    {
      "cell_type": "markdown",
      "metadata": {
        "id": "EK-TRjoBUlQQ"
      },
      "source": [
        "## Exercise 1.c"
      ]
    },
    {
      "cell_type": "code",
      "metadata": {
        "id": "gaPDGYaMgBVB",
        "colab": {
          "base_uri": "https://localhost:8080/"
        },
        "outputId": "8ea00a8e-a69d-4d6c-8b0a-9ee480cc0d28"
      },
      "source": [
        "#trying to change on (b,d)\n",
        "old1 = G['b']['d']['capacity']\n",
        "G['b']['d']['capacity'] = old1 + 1\n",
        "old2 = G['o']['b']['capacity']\n",
        "G['o']['b']['capacity'] = old2 + 1\n",
        "value, flows = nx.algorithms.flow.maximum_flow(G, 'o', 'd', capacity='capacity')\n",
        "print(\"Adding 1 to (b,d) and 1 to (o,b) -> max_flow = {}\".format(value))\n",
        "#revert\n",
        "G['b']['d']['capacity'] = old1\n",
        "G['o']['b']['capacity'] = old2\n"
      ],
      "execution_count": 8,
      "outputs": [
        {
          "output_type": "stream",
          "name": "stdout",
          "text": [
            "Adding 1 to (b,d) and 1 to (o,b) -> max_flow = 6\n"
          ]
        }
      ]
    },
    {
      "cell_type": "markdown",
      "metadata": {
        "id": "xw6OPwOVfN3T"
      },
      "source": [
        "*Cuts:*\n",
        "- $U=\\{o,b,a\\},U^C=\\{d\\}$ -> $C_U = 5$\n",
        "- $U=\\{o,a\\},U^C=\\{b,d\\}$ -> $C_U = 7$\n",
        "- $U=\\{o,b\\},U^C=\\{a,d\\}$ -> $C_U = 5$\n",
        "- $U=\\{o\\},U^C=\\{a,b,d\\}$ -> $C_U = 5$\n",
        "\n",
        "There are three mincuts, whose capacity is 5. \\\\\n",
        "The optimum solution is to distribute de 2 units of capacity to be added. \n",
        "\n",
        "- For the mincut $U=\\{o,b,a\\},U^C=\\{d\\}$,\n",
        "$$\n",
        "C_U = c(b,d) + c(a,d) = 2 + 3\n",
        "$$ \n",
        "- For the mincut $U=\\{o,b\\},U^C=\\{a,d\\}$,\n",
        "$$\n",
        "C_U = c(o,a) + c(b,d) = 3 + 2\n",
        "$$ \n",
        "- For the mincut $U=\\{o\\},U^C=\\{a,b,d\\}$,\n",
        "$$\n",
        "C_U = c(o,a) + c(o,b) = 3 + 2\n",
        "$$ \n",
        "\n",
        "Adding 1 unit on $(b,d)$ and 1 unit on $(o,b)$ makes the maximum flow equals to 6.\n",
        "While other combinations on't change the maximum flow. \n"
      ]
    },
    {
      "cell_type": "markdown",
      "metadata": {
        "id": "GNUOMgNEU4vy"
      },
      "source": [
        "## Exercise 1.d"
      ]
    },
    {
      "cell_type": "code",
      "metadata": {
        "id": "q7X28ESfDrFk"
      },
      "source": [
        "def remake_cut():\n",
        "  global min_cut\n",
        "  global edges\n",
        "  cut1 = edges['bd'] + edges['ad']\n",
        "  cut2 = edges['ob'] + edges['ab'] + edges['ad']\n",
        "  cut3 = edges['oa'] + edges['bd']\n",
        "  cut4 = edges['oa'] + edges['ob']\n",
        "  min_c = min(cut1, cut2, cut3, cut4)\n",
        "  tmp = edges.copy()\n",
        "  if min_c > min_cut:\n",
        "    optimal_cuts.pop(min_cut, None)\n",
        "    optimal_edges.pop(min_cut, None)\n",
        "    min_cut = min_c\n",
        "\n",
        "  if min_cut not in optimal_cuts:\n",
        "    optimal_cuts[min_cut] = [tuple([cut1, cut2, cut3, cut4])]\n",
        "    optimal_edges[min_cut] = [tmp]\n",
        "  else:\n",
        "    optimal_cuts[min_cut].append(tuple([cut1, cut2, cut3, cut4]))\n",
        "    optimal_edges[min_cut].append(tmp)\n",
        "\n",
        "def compute(to_add):\n",
        "  global edges\n",
        "  for el in edges:\n",
        "    if to_add == 0:\n",
        "      #print(edges)\n",
        "      remake_cut()\n",
        "      #check(edges)\n",
        "      return\n",
        "    else:\n",
        "      edges[el] = edges[el]+1\n",
        "      compute(to_add-1)\n",
        "    edges[el] = edges[el]-1  \n"
      ],
      "execution_count": 9,
      "outputs": []
    },
    {
      "cell_type": "code",
      "metadata": {
        "id": "IFdaImb0E83S",
        "colab": {
          "base_uri": "https://localhost:8080/"
        },
        "outputId": "edb9eac7-5725-4fb7-9eb6-22509f6fc59c"
      },
      "source": [
        "min_cut = 0\n",
        "to_add = 4\n",
        "optimal_cuts = {\n",
        "    0:[]\n",
        "}\n",
        "optimal_edges = {\n",
        "    0:[]\n",
        "}\n",
        "edges = dict({\n",
        "  'bd' : 2,\n",
        "  'ad' : 3,\n",
        "  'ob' : 2,\n",
        "  'ab' : 2,\n",
        "  'oa' : 3\n",
        "})\n",
        "\n",
        "compute(to_add)\n",
        "\n",
        "sums = optimal_cuts[max(optimal_cuts.keys())]\n",
        "sums = [sum(el) for el in sums]\n",
        "index = sums.index(max(sums))\n",
        "optimal_set_of_edges = optimal_edges[max(optimal_cuts.keys())][index]\n",
        "print(\"optimal edges: \",optimal_set_of_edges)\n",
        "print(\"optimal cut: \", optimal_cuts[max(optimal_cuts.keys())][index])"
      ],
      "execution_count": 10,
      "outputs": [
        {
          "output_type": "stream",
          "name": "stdout",
          "text": [
            "optimal edges:  {'bd': 4, 'ad': 3, 'ob': 4, 'ab': 2, 'oa': 3}\n",
            "optimal cut:  (7, 9, 7, 7)\n"
          ]
        }
      ]
    },
    {
      "cell_type": "markdown",
      "metadata": {
        "id": "OJNo5YBA1Q6R"
      },
      "source": [
        "*Cuts:*\n",
        "- $U=\\{o,b,a\\},U^C=\\{d\\}$ -> $C_U = 5$ -> $C_U = c(b,d) + c(a,d) = 2 + 3$ \n",
        "- $U=\\{o,a\\},U^C=\\{b,d\\}$ -> $C_U = 7$ -> $C_U = c(o,b) + c(a,b) + c(a,d) = 2 + 2 + 3$ \n",
        "- $U=\\{o,b\\},U^C=\\{a,d\\}$ -> $C_U = 5$ -> $C_U = c(o,a) + c(b,d) = 3 + 2$\n",
        "- $U=\\{o\\},U^C=\\{a,b,d\\}$ -> $C_U = 5$ -> $C_U = c(o,a) + c(o,b) = 3 + 2$ \n",
        "\n",
        "\n",
        "The max-throughput reachable adding 4 units of capacity is 7.\n",
        "The max sum of the cut capacities among all combinations of optimum capacity distribution is 30. One of the configurations that gives this result is\n",
        "$$ \n",
        "\\begin{cases}\n",
        "c(a,b) = 2 \\rightarrow c(a,b) = 2 \\\\ \n",
        "c(a,d) = 3 \\rightarrow c(a,d) = 3 \\\\ \n",
        "\\bf{c(b,d) = 2 \\rightarrow c(b,d) = 4} \\\\\n",
        "c(o,a) = 3 \\rightarrow c(o,a) = 3 \\\\ \n",
        "\\bf{c(o,b) = 2 \\rightarrow c(o,b) = 4} \n",
        "\\end{cases}$$\n",
        "\n",
        "that gives the following cuts: \n",
        "- $U=\\{o,b,a\\},U^C=\\{d\\}$ -> $C_U = c(b,d) + c(a,d) = 4 + 3 = 7$ \n",
        "- $U=\\{o,a\\},U^C=\\{b,d\\}$ -> $C_U = c(o,b) + c(a,b) + c(a,d) = 4 + 2 + 3 = 9$ \n",
        "- $U=\\{o,b\\},U^C=\\{a,d\\}$ -> $C_U = c(o,a) + c(b,d) = 3 + 4 = 7$ \n",
        "- $U=\\{o\\},U^C=\\{a,b,d\\}$ -> $C_U = c(o,a) + c(o,b) = 3 + 4 = 7$ \n"
      ]
    },
    {
      "cell_type": "code",
      "metadata": {
        "id": "8zxMZMXJ2Tf8",
        "colab": {
          "base_uri": "https://localhost:8080/"
        },
        "outputId": "5a70f936-6cb7-4b71-d1db-abb7e9e7da5c"
      },
      "source": [
        "#trying to change on (b,d) and (o,b)\n",
        "old1 = G['b']['d']['capacity']\n",
        "G['b']['d']['capacity'] = old1 + 2\n",
        "old2 = G['o']['b']['capacity']\n",
        "G['o']['b']['capacity'] = old2 + 2\n",
        "value, flows = nx.algorithms.flow.maximum_flow(G, 'o', 'd', capacity='capacity')\n",
        "print(\"Adding 2 to (b,d) and 2 to (o,b) -> max_flow = {}\".format(value))\n",
        "#revert\n",
        "G['b']['d']['capacity'] = old1\n",
        "G['o']['b']['capacity'] = old2"
      ],
      "execution_count": 11,
      "outputs": [
        {
          "output_type": "stream",
          "name": "stdout",
          "text": [
            "Adding 2 to (b,d) and 2 to (o,b) -> max_flow = 7\n"
          ]
        }
      ]
    },
    {
      "cell_type": "markdown",
      "metadata": {
        "id": "LAkb6tU1XJig"
      },
      "source": [
        "# Exercise 2"
      ]
    },
    {
      "cell_type": "markdown",
      "metadata": {
        "id": "NRs-0hZ7X6Ut"
      },
      "source": [
        "## Exercise 2.a"
      ]
    },
    {
      "cell_type": "code",
      "metadata": {
        "id": "HPHTd8hCXQDn",
        "outputId": "9a483c5c-8a47-4dd2-f389-2c84a8719321",
        "colab": {
          "base_uri": "https://localhost:8080/",
          "height": 248
        }
      },
      "source": [
        "#creating and drawing the graph\n",
        "BG = nx.Graph()\n",
        "nodes = ['p1','p2','p3','p4','b1','b2','b3','b4']\n",
        "edges = [('p1', 'b1',{'capacity': 1}), ('p1', 'b2',{'capacity': 1}), ('p2', 'b2',{'capacity': 1}), ('p2', 'b3',{'capacity': 1}), ('p3', 'b1',{'capacity': 1}), ('p3', 'b4',{'capacity': 1}), ('p4', 'b1',{'capacity': 1}), ('p4', 'b2',{'capacity': 1}), ('p4', 'b4',{'capacity': 1})]\n",
        "BG.add_nodes_from(nodes)\n",
        "BG.add_edges_from(edges)\n",
        "BG.add_node('o')\n",
        "BG.add_node('d')\n",
        "BG.add_edges_from([('o','p1',{'capacity': 1}),('o','p2',{'capacity': 1}),('o','p3',{'capacity': 1}),('o','p4',{'capacity': 1}),('b1','d',{'capacity': 1}),('b2','d',{'capacity': 1}),('b3','d',{'capacity': 1}),('b4','d',{'capacity': 1})])\n",
        "labels = nx.get_edge_attributes(BG,'capacity')\n",
        "options = {\n",
        "    'node_size': 1000,\n",
        "    'width': 1, # width of the edges\n",
        "}\n",
        "pos = {'o':(0,50),'p1': (40, 20), 'p2': (40, 40), 'p3': (40, 60), 'p4': (40, 80), 'b1': (80, 20), 'b2': (80, 40), 'b3': (80, 60), 'b4': (80, 80),'d':(120,50)}\n",
        "nx.draw_networkx_edge_labels(G, pos, edge_labels = labels)\n",
        "nx.draw(BG, pos, **options, with_labels=True)\n"
      ],
      "execution_count": 37,
      "outputs": [
        {
          "output_type": "display_data",
          "data": {
            "image/png": "[encoded data removed]",
            "text/plain": [
              "<Figure size 432x288 with 1 Axes>"
            ]
          },
          "metadata": {}
        }
      ]
    },
    {
      "cell_type": "code",
      "metadata": {
        "id": "6Or1p26zmYya",
        "outputId": "e3616f24-6334-4786-c407-6654a1a8e977",
        "colab": {
          "base_uri": "https://localhost:8080/"
        }
      },
      "source": [
        "nx.algorithms.flow.maximum_flow(BG, 'o', 'd', capacity='capacity')"
      ],
      "execution_count": 38,
      "outputs": [
        {
          "output_type": "execute_result",
          "data": {
            "text/plain": [
              "(4,\n",
              " {'b1': {'d': 1, 'p1': 0, 'p3': 0, 'p4': 0},\n",
              "  'b2': {'d': 1, 'p1': 0, 'p2': 0, 'p4': 0},\n",
              "  'b3': {'d': 1, 'p2': 0},\n",
              "  'b4': {'d': 1, 'p3': 0, 'p4': 0},\n",
              "  'd': {'b1': 0, 'b2': 0, 'b3': 0, 'b4': 0},\n",
              "  'o': {'p1': 1, 'p2': 1, 'p3': 1, 'p4': 1},\n",
              "  'p1': {'b1': 0, 'b2': 1, 'o': 0},\n",
              "  'p2': {'b2': 0, 'b3': 1, 'o': 0},\n",
              "  'p3': {'b1': 0, 'b4': 1, 'o': 0},\n",
              "  'p4': {'b1': 1, 'b2': 0, 'b4': 0, 'o': 0}})"
            ]
          },
          "metadata": {},
          "execution_count": 38
        }
      ]
    },
    {
      "cell_type": "markdown",
      "metadata": {
        "id": "OMFn67GRdJ59"
      },
      "source": [
        "## Exercise 2.b"
      ]
    },
    {
      "cell_type": "code",
      "metadata": {
        "id": "OwQXZvKbkgW-"
      },
      "source": [
        ""
      ],
      "execution_count": 27,
      "outputs": []
    },
    {
      "cell_type": "code",
      "metadata": {
        "id": "D11tcHivdMTQ",
        "outputId": "06a0bf49-c9e3-4499-9831-2b56c8a86726",
        "colab": {
          "base_uri": "https://localhost:8080/",
          "height": 319
        }
      },
      "source": [
        "match = nx.bipartite.maximum_matching(BG)\n",
        "new_edges = [(k,match[k]) for k in match]\n",
        "new_G = nx.Graph()\n",
        "new_G.add_nodes_from(nodes)\n",
        "new_G.add_edges_from(new_edges)\n",
        "nx.draw(new_G, pos, **options, with_labels=True)"
      ],
      "execution_count": 26,
      "outputs": [
        {
          "output_type": "display_data",
          "data": {
            "image/png": "[encoded data removed]",
            "text/plain": [
              "<Figure size 432x288 with 1 Axes>"
            ]
          },
          "metadata": {}
        }
      ]
    }
  ]
}