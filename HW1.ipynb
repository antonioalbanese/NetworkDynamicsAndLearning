{
  "nbformat": 4,
  "nbformat_minor": 0,
  "metadata": {
    "colab": {
      "name": "HW1.ipynb",
      "provenance": [],
      "collapsed_sections": [],
      "include_colab_link": true
    },
    "kernelspec": {
      "display_name": "Python 3",
      "name": "python3"
    },
    "language_info": {
      "name": "python"
    }
  },
  "cells": [
    {
      "cell_type": "markdown",
      "metadata": {
        "id": "view-in-github",
        "colab_type": "text"
      },
      "source": [
        "<a href=\"https://colab.research.google.com/github/antonioalbanese/NetworkDynamicsAndLearning/blob/main/HW1.ipynb\" target=\"_parent\"><img src=\"https://colab.research.google.com/assets/colab-badge.svg\" alt=\"Open In Colab\"/></a>"
      ]
    },
    {
      "cell_type": "code",
      "metadata": {
        "id": "HoRvOXpaPS9Y"
      },
      "source": [
        "import networkx as nx\n",
        "import matplotlib.pyplot as plt\n",
        "%matplotlib inline\n",
        "options = {\n",
        "    'node_size': 1000,\n",
        "    'width': 1, # width of the edges,\n",
        "    'node_color': '#ffffff',\n",
        "    'node_shape': 'o',\n",
        "    'edge_color': 'black',\n",
        "    'font_weight':'normal'\n",
        "}"
      ],
      "execution_count": 92,
      "outputs": []
    },
    {
      "cell_type": "markdown",
      "metadata": {
        "id": "AGnvzNFcXCo-"
      },
      "source": [
        "#Exercise 1"
      ]
    },
    {
      "cell_type": "code",
      "metadata": {
        "colab": {
          "base_uri": "https://localhost:8080/",
          "height": 248
        },
        "id": "-Po3_2hpQL1S",
        "outputId": "79ff58d6-7890-4032-fde2-6ca988e48be4"
      },
      "source": [
        "nodes = ['o', 'a', 'b', 'd']\n",
        "edges = [('o','a',{'capacity':3}), ('o','b',{'capacity':2}), ('a','b',{'capacity':2}), ('a','d',{'capacity':3}), ('b','d',{'capacity':2})]\n",
        "\n",
        "G = nx.DiGraph()\n",
        "G.add_nodes_from(nodes)\n",
        "G.add_edges_from(edges)\n",
        "pos = {'o': (40, 20), 'a': (60, 35), 'b': (60, 5), 'd': (80, 20)}\n",
        "labels = nx.get_edge_attributes(G,'capacity')\n",
        "\n",
        "\n",
        "plt.subplot(111)\n",
        "nx.draw_networkx_edge_labels(G, pos, edge_labels = labels)\n",
        "nx.draw(G, pos, with_labels=True, **options)\n",
        "ax= plot.gca()\n",
        "ax.collections[0].set_edgecolor(\"black\")"
      ],
      "execution_count": 203,
      "outputs": [
        {
          "output_type": "display_data",
          "data": {
            "image/png": "[encoded data removed]",
            "text/plain": [
              "<Figure size 432x288 with 1 Axes>"
            ]
          },
          "metadata": {}
        }
      ]
    },
    {
      "cell_type": "markdown",
      "metadata": {
        "id": "8X9dXkjvUZAG"
      },
      "source": [
        "## Exercise 1.b"
      ]
    },
    {
      "cell_type": "code",
      "metadata": {
        "id": "S1Xv4VYeanPM",
        "colab": {
          "base_uri": "https://localhost:8080/"
        },
        "outputId": "9103defa-7cf1-4972-d47e-b5cddca13185"
      },
      "source": [
        "#trying to change on (b,d)\n",
        "old = G['b']['d']['capacity']\n",
        "G['b']['d']['capacity'] = old + 1\n",
        "value, flows = nx.algorithms.flow.maximum_flow(G, 'o', 'd', capacity='capacity')\n",
        "print(\"Adding 1 to (b,d) -> max_flow = {}\".format(value))\n",
        "#revert\n",
        "G['b']['d']['capacity'] = old \n",
        "\n",
        "#trying to change on (o,a)\n",
        "old = G['o']['a']['capacity']\n",
        "G['o']['a']['capacity'] = old + 1\n",
        "value, flows = nx.algorithms.flow.maximum_flow(G, 'o', 'd', capacity='capacity')\n",
        "print(\"Adding 1 to (o,a) -> max_flow = {}\".format(value))\n",
        "#revert\n",
        "G['o']['a']['capacity'] = old \n",
        "\n",
        "#trying to change on (a,d)\n",
        "old = G['a']['d']['capacity']\n",
        "G['a']['d']['capacity'] = old + 1\n",
        "value, flows = nx.algorithms.flow.maximum_flow(G, 'o', 'd', capacity='capacity')\n",
        "print(\"Adding 1 to (a,d) -> max_flow = {}\".format(value))\n",
        "#revert\n",
        "G['a']['d']['capacity'] = old \n",
        "\n",
        "#trying to change on (o,b)\n",
        "old = G['o']['b']['capacity']\n",
        "G['o']['b']['capacity'] = old + 1\n",
        "value, flows = nx.algorithms.flow.maximum_flow(G, 'o', 'd', capacity='capacity')\n",
        "print(\"Adding 1 to (o,b) -> max_flow = {}\".format(value))\n",
        "#revert\n",
        "G['o']['b']['capacity'] = old "
      ],
      "execution_count": 204,
      "outputs": [
        {
          "output_type": "stream",
          "name": "stdout",
          "text": [
            "Adding 1 to (b,d) -> max_flow = 5\n",
            "Adding 1 to (o,a) -> max_flow = 5\n",
            "Adding 1 to (a,d) -> max_flow = 5\n",
            "Adding 1 to (o,b) -> max_flow = 5\n"
          ]
        }
      ]
    },
    {
      "cell_type": "markdown",
      "metadata": {
        "id": "_L6M0so_L9Xx"
      },
      "source": [
        "*Cuts:*\n",
        "- $U=\\{o,b,a\\},U^C=\\{d\\}$ -> $C_U = 5$\n",
        "- $U=\\{o,a\\},U^C=\\{b,d\\}$ -> $C_U = 7$\n",
        "- $U=\\{o,b\\},U^C=\\{a,d\\}$ -> $C_U = 5$\n",
        "- $U=\\{o\\},U^C=\\{a,b,d\\}$ -> $C_U = 5$\n",
        "\n",
        "There are three mincuts, whose capacity is 5. \n",
        "- For the mincut $U=\\{o,b,a\\},U^C=\\{d\\}$,\n",
        "$$\n",
        "C_U = c(b,d) + c(a,d)\n",
        "$$ \n",
        "- For the mincut $U=\\{o,b\\},U^C=\\{a,d\\}$,\n",
        "$$\n",
        "C_U = c(o,a) + c(b,d)\n",
        "$$ \n",
        "- For the mincut $U=\\{o\\},U^C=\\{a,b,d\\}$,\n",
        "$$\n",
        "C_U = c(o,a) + c(o,b)\n",
        "$$ \n",
        "\n",
        "Indipendently from where we apply one more unit of capacity the max throughput cannot be improved.\n",
        "\n",
        "\n",
        "\n"
      ]
    },
    {
      "cell_type": "markdown",
      "metadata": {
        "id": "EK-TRjoBUlQQ"
      },
      "source": [
        "## Exercise 1.c"
      ]
    },
    {
      "cell_type": "code",
      "metadata": {
        "id": "gaPDGYaMgBVB",
        "colab": {
          "base_uri": "https://localhost:8080/"
        },
        "outputId": "7787930f-7575-47ae-dfe5-88c412a5e4c9"
      },
      "source": [
        "#trying to change on (b,d)\n",
        "old1 = G['b']['d']['capacity']\n",
        "G['b']['d']['capacity'] = old1 + 1\n",
        "old2 = G['o']['b']['capacity']\n",
        "G['o']['b']['capacity'] = old2 + 1\n",
        "value, flows = nx.algorithms.flow.maximum_flow(G, 'o', 'd', capacity='capacity')\n",
        "print(\"Adding 1 to (b,d) and 1 to (o,b) -> max_flow = {}\".format(value))\n",
        "#revert\n",
        "G['b']['d']['capacity'] = old1\n",
        "G['o']['b']['capacity'] = old2\n"
      ],
      "execution_count": 205,
      "outputs": [
        {
          "output_type": "stream",
          "name": "stdout",
          "text": [
            "Adding 1 to (b,d) and 1 to (o,b) -> max_flow = 6\n"
          ]
        }
      ]
    },
    {
      "cell_type": "markdown",
      "metadata": {
        "id": "xw6OPwOVfN3T"
      },
      "source": [
        "*Cuts:*\n",
        "- $U=\\{o,b,a\\},U^C=\\{d\\}$ -> $C_U = 5$\n",
        "- $U=\\{o,a\\},U^C=\\{b,d\\}$ -> $C_U = 7$\n",
        "- $U=\\{o,b\\},U^C=\\{a,d\\}$ -> $C_U = 5$\n",
        "- $U=\\{o\\},U^C=\\{a,b,d\\}$ -> $C_U = 5$\n",
        "\n",
        "There are three mincuts, whose capacity is 5. \\\\\n",
        "The optimum solution is to distribute de 2 units of capacity to be added. \n",
        "\n",
        "- For the mincut $U=\\{o,b,a\\},U^C=\\{d\\}$,\n",
        "$$\n",
        "C_U = c(b,d) + c(a,d) = 2 + 3\n",
        "$$ \n",
        "- For the mincut $U=\\{o,b\\},U^C=\\{a,d\\}$,\n",
        "$$\n",
        "C_U = c(o,a) + c(b,d) = 3 + 2\n",
        "$$ \n",
        "- For the mincut $U=\\{o\\},U^C=\\{a,b,d\\}$,\n",
        "$$\n",
        "C_U = c(o,a) + c(o,b) = 3 + 2\n",
        "$$ \n",
        "\n",
        "Adding 1 unit on $(b,d)$ and 1 unit on $(o,b)$ makes the maximum flow equals to 6.\n"
      ]
    },
    {
      "cell_type": "markdown",
      "metadata": {
        "id": "GNUOMgNEU4vy"
      },
      "source": [
        "## Exercise 1.d"
      ]
    },
    {
      "cell_type": "code",
      "metadata": {
        "id": "q7X28ESfDrFk"
      },
      "source": [
        "min_cut = 0\n",
        "to_add = 2\n",
        "optimal_cuts = {\n",
        "    0:[]\n",
        "}\n",
        "optimal_edges = {\n",
        "    0:[]\n",
        "}\n",
        "edges = dict({\n",
        "  'c(o,a)' : 3,\n",
        "  'c(o,b)' : 2,\n",
        "  'c(a,b)' : 2,\n",
        "  'c(a,d)' : 3,\n",
        "  'c(b,d)' : 2\n",
        "  \n",
        "})\n",
        "\n",
        "def remake_cut():\n",
        "  global min_cut\n",
        "  global edges\n",
        "  global optimal_cuts\n",
        "  global optimal_edges\n",
        "  cut1 = edges['c(b,d)'] + edges['c(a,d)']\n",
        "  cut2 = edges['c(o,b)'] + edges['c(a,b)'] + edges['c(a,d)']\n",
        "  cut3 = edges['c(o,a)'] + edges['c(b,d)']\n",
        "  cut4 = edges['c(o,a)'] + edges['c(o,b)']\n",
        "  min_c = min(cut1, cut2, cut3, cut4)\n",
        "  tmp = edges.copy()\n",
        "  if min_c >= min_cut:\n",
        "    #optimal_cuts.pop(min_cut, None)\n",
        "    #optimal_edges.pop(min_cut, None)\n",
        "    min_cut = min_c\n",
        "    if min_cut not in optimal_cuts.keys():\n",
        "      optimal_cuts[min_cut] = [tuple([cut1, cut2, cut3, cut4])]\n",
        "      optimal_edges[min_cut] = [tmp]\n",
        "    else:\n",
        "      if tmp not in optimal_edges[min_cut]:\n",
        "        optimal_cuts[min_cut].append(tuple([cut1, cut2, cut3, cut4]))\n",
        "        optimal_edges[min_cut].append(tmp)\n",
        "\n",
        "def compute(to_add):\n",
        "  global edges\n",
        "  for el in edges:\n",
        "    if to_add == 0:\n",
        "      #print(edges)\n",
        "      remake_cut()\n",
        "      #check(edges)\n",
        "      return\n",
        "    else:\n",
        "      edges[el] = edges[el]+1\n",
        "      compute(to_add-1)\n",
        "    edges[el] = edges[el]-1  \n"
      ],
      "execution_count": 209,
      "outputs": []
    },
    {
      "cell_type": "code",
      "metadata": {
        "id": "IFdaImb0E83S",
        "colab": {
          "base_uri": "https://localhost:8080/"
        },
        "outputId": "8dccb27f-027a-4ebb-c43d-1915e9251a17"
      },
      "source": [
        "compute(to_add)\n",
        "\n",
        "sums = optimal_cuts[max(optimal_cuts.keys())]\n",
        "sums = [sum(el) for el in sums]\n",
        "index = sums.index(max(sums))\n",
        "optimal_set_of_edges = optimal_edges[max(optimal_cuts.keys())][index]\n",
        "print(\"optimal edges: \",optimal_set_of_edges)\n",
        "print(\"optimal cut: \", optimal_cuts[max(optimal_cuts.keys())][index])"
      ],
      "execution_count": 210,
      "outputs": [
        {
          "output_type": "stream",
          "name": "stdout",
          "text": [
            "optimal edges:  {'c(o,a)': 4, 'c(o,b)': 2, 'c(a,b)': 2, 'c(a,d)': 4, 'c(b,d)': 2}\n",
            "optimal cut:  (6, 8, 6, 6)\n"
          ]
        }
      ]
    },
    {
      "cell_type": "code",
      "metadata": {
        "id": "UUlsdh-rzw2H",
        "outputId": "b3c73c55-3616-450a-efcd-b27ec599b94f",
        "colab": {
          "base_uri": "https://localhost:8080/"
        }
      },
      "source": [
        "optimal_edges[6]"
      ],
      "execution_count": 214,
      "outputs": [
        {
          "output_type": "execute_result",
          "data": {
            "text/plain": [
              "[{'c(a,b)': 2, 'c(a,d)': 4, 'c(b,d)': 2, 'c(o,a)': 4, 'c(o,b)': 2},\n",
              " {'c(a,b)': 2, 'c(a,d)': 3, 'c(b,d)': 3, 'c(o,a)': 4, 'c(o,b)': 2},\n",
              " {'c(a,b)': 2, 'c(a,d)': 3, 'c(b,d)': 3, 'c(o,a)': 3, 'c(o,b)': 3}]"
            ]
          },
          "metadata": {},
          "execution_count": 214
        }
      ]
    },
    {
      "cell_type": "code",
      "metadata": {
        "id": "JPA4ZFAmV6-S",
        "outputId": "2bca1069-579c-45ff-843e-297197863d9b",
        "colab": {
          "base_uri": "https://localhost:8080/"
        }
      },
      "source": [
        "for i, (a, s) in enumerate(zip(zip(optimal_cuts[7], optimal_edges[7]), sums)):\n",
        "  print(f\"Configuration {i+1}:\")\n",
        "  print(f\"Edges: {a[1]}\")\n",
        "  print(f\"Cuts: \", {a[0]})\n",
        "  print(f\"Sum of cuts: {s}\\n\\n\")"
      ],
      "execution_count": 168,
      "outputs": [
        {
          "output_type": "stream",
          "name": "stdout",
          "text": [
            "Configuration 1:\n",
            "Edges: {'c(o,a)': 5, 'c(o,b)': 2, 'c(a,b)': 2, 'c(a,d)': 5, 'c(b,d)': 2}\n",
            "Cuts:  {(7, 9, 7, 7)}\n",
            "Sum of cuts: 30\n",
            "\n",
            "\n",
            "Configuration 2:\n",
            "Edges: {'c(o,a)': 5, 'c(o,b)': 2, 'c(a,b)': 2, 'c(a,d)': 4, 'c(b,d)': 3}\n",
            "Cuts:  {(7, 8, 8, 7)}\n",
            "Sum of cuts: 30\n",
            "\n",
            "\n",
            "Configuration 3:\n",
            "Edges: {'c(o,a)': 5, 'c(o,b)': 2, 'c(a,b)': 2, 'c(a,d)': 3, 'c(b,d)': 4}\n",
            "Cuts:  {(7, 7, 9, 7)}\n",
            "Sum of cuts: 30\n",
            "\n",
            "\n",
            "Configuration 4:\n",
            "Edges: {'c(o,a)': 4, 'c(o,b)': 3, 'c(a,b)': 2, 'c(a,d)': 4, 'c(b,d)': 3}\n",
            "Cuts:  {(7, 9, 7, 7)}\n",
            "Sum of cuts: 30\n",
            "\n",
            "\n",
            "Configuration 5:\n",
            "Edges: {'c(o,a)': 4, 'c(o,b)': 3, 'c(a,b)': 2, 'c(a,d)': 3, 'c(b,d)': 4}\n",
            "Cuts:  {(7, 8, 8, 7)}\n",
            "Sum of cuts: 30\n",
            "\n",
            "\n",
            "Configuration 6:\n",
            "Edges: {'c(o,a)': 3, 'c(o,b)': 4, 'c(a,b)': 2, 'c(a,d)': 3, 'c(b,d)': 4}\n",
            "Cuts:  {(7, 9, 7, 7)}\n",
            "Sum of cuts: 30\n",
            "\n",
            "\n"
          ]
        }
      ]
    },
    {
      "cell_type": "markdown",
      "metadata": {
        "id": "OJNo5YBA1Q6R"
      },
      "source": [
        "*Cuts:*\n",
        "- $U=\\{o,b,a\\},U^C=\\{d\\}$ -> $C_U = 5$ -> $C_U = c(b,d) + c(a,d) = 2 + 3$ \n",
        "- $U=\\{o,a\\},U^C=\\{b,d\\}$ -> $C_U = 7$ -> $C_U = c(o,b) + c(a,b) + c(a,d) = 2 + 2 + 3$ \n",
        "- $U=\\{o,b\\},U^C=\\{a,d\\}$ -> $C_U = 5$ -> $C_U = c(o,a) + c(b,d) = 3 + 2$\n",
        "- $U=\\{o\\},U^C=\\{a,b,d\\}$ -> $C_U = 5$ -> $C_U = c(o,a) + c(o,b) = 3 + 2$ \n",
        "\n",
        "\n",
        "The max-throughput reachable adding 4 units of capacity is 7.\n",
        "The max sum of the cut capacities among all combinations of optimum capacity distribution is 30. One of the configurations that gives this result is\n",
        "$$ \n",
        "\\begin{cases}\n",
        "c(a,b) = 2 \\rightarrow c(a,b) = 2 \\\\ \n",
        "c(a,d) = 3 \\rightarrow c(a,d) = 3 \\\\ \n",
        "\\bf{c(b,d) = 2 \\rightarrow c(b,d) = 4} \\\\\n",
        "c(o,a) = 3 \\rightarrow c(o,a) = 3 \\\\ \n",
        "\\bf{c(o,b) = 2 \\rightarrow c(o,b) = 4} \n",
        "\\end{cases}$$\n",
        "\n",
        "that gives the following cuts: \n",
        "- $U=\\{o,b,a\\},U^C=\\{d\\}$ -> $C_U = c(b,d) + c(a,d) = 4 + 3 = 7$ \n",
        "- $U=\\{o,a\\},U^C=\\{b,d\\}$ -> $C_U = c(o,b) + c(a,b) + c(a,d) = 4 + 2 + 3 = 9$ \n",
        "- $U=\\{o,b\\},U^C=\\{a,d\\}$ -> $C_U = c(o,a) + c(b,d) = 3 + 4 = 7$ \n",
        "- $U=\\{o\\},U^C=\\{a,b,d\\}$ -> $C_U = c(o,a) + c(o,b) = 3 + 4 = 7$ \n"
      ]
    },
    {
      "cell_type": "code",
      "metadata": {
        "id": "8zxMZMXJ2Tf8",
        "colab": {
          "base_uri": "https://localhost:8080/"
        },
        "outputId": "f40ca968-fe69-4d60-a931-451dc151242f"
      },
      "source": [
        "#trying to change on (b,d) and (o,b)\n",
        "old1 = G['b']['d']['capacity']\n",
        "G['b']['d']['capacity'] = old1 + 2\n",
        "old2 = G['o']['b']['capacity']\n",
        "G['o']['b']['capacity'] = old2 + 2\n",
        "value, flows = nx.algorithms.flow.maximum_flow(G, 'o', 'd', capacity='capacity')\n",
        "print(\"Adding 2 to (b,d) and 2 to (o,b) -> max_flow = {}\".format(value))\n",
        "#revert\n",
        "G['b']['d']['capacity'] = old1\n",
        "G['o']['b']['capacity'] = old2"
      ],
      "execution_count": 34,
      "outputs": [
        {
          "output_type": "stream",
          "name": "stdout",
          "text": [
            "Adding 2 to (b,d) and 2 to (o,b) -> max_flow = 7\n"
          ]
        }
      ]
    },
    {
      "cell_type": "markdown",
      "metadata": {
        "id": "LAkb6tU1XJig"
      },
      "source": [
        "# Exercise 2"
      ]
    },
    {
      "cell_type": "markdown",
      "metadata": {
        "id": "NRs-0hZ7X6Ut"
      },
      "source": [
        "## Exercise 2.a"
      ]
    },
    {
      "cell_type": "code",
      "metadata": {
        "id": "HPHTd8hCXQDn",
        "colab": {
          "base_uri": "https://localhost:8080/",
          "height": 319
        },
        "outputId": "0a72d6fe-60f2-4343-9a0a-92c092dfd515"
      },
      "source": [
        "#creating and drawing the graph\n",
        "BG = nx.Graph()\n",
        "nodes = ['p1','p2','p3','p4','b1','b2','b3','b4']\n",
        "edges = [('p1', 'b1',{'capacity': 1}), ('p1', 'b2',{'capacity': 1}), ('p2', 'b2',{'capacity': 1}), ('p2', 'b3',{'capacity': 1}), ('p3', 'b1',{'capacity': 1}), ('p3', 'b4',{'capacity': 1}), ('p4', 'b1',{'capacity': 1}), ('p4', 'b2',{'capacity': 1}), ('p4', 'b4',{'capacity': 1})]\n",
        "BG.add_nodes_from(nodes)\n",
        "BG.add_edges_from(edges)\n",
        "#BG.add_node('o')\n",
        "#BG.add_node('d')\n",
        "#BG.add_edges_from([('o','p1',{'capacity': 1}),('o','p2',{'capacity': 1}),('o','p3',{'capacity': 1}),('o','p4',{'capacity': 1}),('b1','d',{'capacity': 1}),('b2','d',{'capacity': 1}),('b3','d',{'capacity': 1}),('b4','d',{'capacity': 1})])\n",
        "#labels = nx.get_edge_attributes(BG,'capacity')\n",
        "\n",
        "pos = {'p1': (40, 20), 'p2': (40, 40), 'p3': (40, 60), 'p4': (40, 80), 'b1': (80, 20), 'b2': (80, 40), 'b3': (80, 60), 'b4': (80, 80)}\n",
        "#nx.draw_networkx_edge_labels(BG, pos, edge_labels = labels)\n",
        "nx.draw(BG, pos, **options, with_labels=True)\n",
        "ax= plot.gca()\n",
        "ax.collections[0].set_edgecolor(\"black\")\n"
      ],
      "execution_count": 35,
      "outputs": [
        {
          "output_type": "display_data",
          "data": {
            "image/png": "[encoded data removed]",
            "text/plain": [
              "<Figure size 432x288 with 1 Axes>"
            ]
          },
          "metadata": {}
        }
      ]
    },
    {
      "cell_type": "markdown",
      "metadata": {
        "id": "OMFn67GRdJ59"
      },
      "source": [
        "## Exercise 2.b"
      ]
    },
    {
      "cell_type": "code",
      "metadata": {
        "id": "GZvtZ0tSHBHJ",
        "colab": {
          "base_uri": "https://localhost:8080/",
          "height": 313
        },
        "outputId": "8fb034e7-1cd1-462b-8d0a-bab94518700f"
      },
      "source": [
        "## using flow\n",
        "BG = nx.DiGraph()\n",
        "nodes = ['p1','p2','p3','p4','b1','b2','b3','b4']\n",
        "edges = [('p1', 'b1',{'capacity': 1}), ('p1', 'b2',{'capacity': 1}), ('p2', 'b2',{'capacity': 1}), ('p2', 'b3',{'capacity': 1}), ('p3', 'b1',{'capacity': 1}), ('p3', 'b4',{'capacity': 1}), ('p4', 'b1',{'capacity': 1}), ('p4', 'b2',{'capacity': 1}), ('p4', 'b4',{'capacity': 1})]\n",
        "BG.add_nodes_from(nodes)\n",
        "BG.add_edges_from(edges)\n",
        "### adding origin and destination\n",
        "BG.add_node('o')\n",
        "BG.add_node('d')\n",
        "BG.add_edges_from([('o','p1',{'capacity': 1}),('o','p2',{'capacity': 1}),('o','p3',{'capacity': 1}),('o','p4',{'capacity': 1}),('b1','d',{'capacity': 1}),('b2','d',{'capacity': 1}),('b3','d',{'capacity': 1}),('b4','d',{'capacity': 1})])\n",
        "labels = nx.get_edge_attributes(BG,'capacity')\n",
        "pos = {'o':(0,50),'p1': (40, 20), 'p2': (40, 40), 'p3': (40, 60), 'p4': (40, 80), 'b1': (80, 20), 'b2': (80, 40), 'b3': (80, 60), 'b4': (80, 80),'d':(120,50)}\n",
        "\n",
        "fig = plt.figure(constrained_layout=True, figsize=(10,4))\n",
        "gs = fig.add_gridspec(4, 5)\n",
        "## drawing with origin and destination\n",
        "f_ax1 = fig.add_subplot(gs[:, :3])\n",
        "nx.draw(BG, pos, **options, with_labels=True)\n",
        "ax= plot.gca()\n",
        "ax.collections[0].set_edgecolor(\"black\")\n",
        "\n",
        "\n",
        "### finding max flow and printing the matching graph\n",
        "value, flow = nx.algorithms.flow.maximum_flow(BG, 'o', 'd', capacity='capacity')\n",
        "new_edges = [(el,f, {'capacity':1}) for el in flow for f in flow[el] if flow[el][f]!= 0]\n",
        "matchingGraph = nx.DiGraph()\n",
        "matchingGraph.add_nodes_from(nodes)\n",
        "matchingGraph.add_edges_from(new_edges)\n",
        "matchingGraph.remove_nodes_from(['o','d'])\n",
        "\n",
        "\n",
        "f_ax1 = fig.add_subplot(gs[:, 3:])\n",
        "nx.draw(matchingGraph, pos, **options, with_labels=True)\n",
        "ax= plot.gca()\n",
        "ax.collections[0].set_edgecolor(\"black\")\n"
      ],
      "execution_count": 82,
      "outputs": [
        {
          "output_type": "display_data",
          "data": {
            "image/png": "[encoded data removed]",
            "text/plain": [
              "<Figure size 720x288 with 2 Axes>"
            ]
          },
          "metadata": {}
        }
      ]
    },
    {
      "cell_type": "code",
      "metadata": {
        "id": "D11tcHivdMTQ"
      },
      "source": [
        "##using matching from nx ##find another matching but also previuos is good\n",
        "match = nx.bipartite.maximum_matching(BG)\n",
        "new_edges = [(k,match[k]) for k in match]\n",
        "new_G = nx.Graph()\n",
        "new_G.add_nodes_from(nodes)\n",
        "new_G.add_edges_from(new_edges)\n",
        "nx.draw(new_G, pos, **options, with_labels=True)"
      ],
      "execution_count": null,
      "outputs": []
    },
    {
      "cell_type": "markdown",
      "metadata": {
        "id": "XKR3RPSvJ8Y8"
      },
      "source": [
        "## Exercise 2.c"
      ]
    },
    {
      "cell_type": "code",
      "metadata": {
        "id": "jqmZwM88J-46",
        "colab": {
          "base_uri": "https://localhost:8080/",
          "height": 331
        },
        "outputId": "a2db120d-5de2-4727-debb-ed17836ca3b6"
      },
      "source": [
        "## adding capacity to book-destination edges\n",
        "Gc = nx.DiGraph()\n",
        "nodes = ['p1','p2','p3','p4','b1','b2','b3','b4']\n",
        "edges = [('p1', 'b1',{'capacity': 1}), ('p1', 'b2',{'capacity': 1}), ('p2', 'b2',{'capacity': 1}), ('p2', 'b3',{'capacity': 1}), ('p3', 'b1',{'capacity': 1}), ('p3', 'b4',{'capacity': 1}), ('p4', 'b1',{'capacity': 1}), ('p4', 'b2',{'capacity': 1}), ('p4', 'b4',{'capacity': 1})]\n",
        "Gc.add_nodes_from(nodes)\n",
        "Gc.add_edges_from(edges)\n",
        "Gc.add_node('o')\n",
        "Gc.add_node('d')\n",
        "Gc.add_edges_from([('o','p1',{'capacity': 2}),('o','p2',{'capacity': 2}),('o','p3',{'capacity': 2}),('o','p4',{'capacity': 3}),('b1','d',{'capacity': 2}),('b2','d',{'capacity': 3}),('b3','d',{'capacity': 2}),('b4','d',{'capacity': 2})])\n",
        "labels = nx.get_edge_attributes(Gc,'capacity')\n",
        "pos = {'o':(0,50),'p1': (40, 20), 'p2': (40, 40), 'p3': (40, 60), 'p4': (40, 80), 'b1': (80, 20), 'b2': (80, 40), 'b3': (80, 60), 'b4': (80, 80),'d':(120,50)}\n",
        "\n",
        "fig = plt.figure(constrained_layout=True, figsize=(10,4))\n",
        "gs = fig.add_gridspec(4, 5)\n",
        "## drawing with origin and destination\n",
        "f_ax1 = fig.add_subplot(gs[:, :3])\n",
        "nx.draw_networkx_edge_labels(Gc, pos, edge_labels = labels)\n",
        "nx.draw(Gc, pos, **options, with_labels=True)\n",
        "ax= plot.gca()\n",
        "ax.collections[0].set_edgecolor(\"black\")\n",
        "\n",
        "\n",
        "### finding max flow and printing the matching graph\n",
        "value, flow = nx.algorithms.flow.maximum_flow(Gc, 'o', 'd', capacity='capacity')\n",
        "new_edges = [(el,f) for el in flow for f in flow[el] if flow[el][f]!= 0]\n",
        "matchingGraphC = nx.DiGraph()\n",
        "matchingGraphC.add_nodes_from(nodes)\n",
        "matchingGraphC.add_edges_from(new_edges)\n",
        "labels = nx.get_edge_attributes(matchingGraphC,'capacity')\n",
        "matchingGraphC.remove_nodes_from(['o','d'])\n",
        "pos = {'p1': (40, 20), 'p2': (40, 40), 'p3': (40, 60), 'p4': (40, 80), 'b1': (80, 20), 'b2': (80, 40), 'b3': (80, 60), 'b4': (80, 80)}\n",
        "f_ax1 = fig.add_subplot(gs[:, 3:])\n",
        "nx.draw(matchingGraphC, pos, **options, with_labels=True)\n",
        "ax= plot.gca()\n",
        "ax.collections[0].set_edgecolor(\"black\")\n",
        "\n",
        "print(\"max-flow = \", value)\n"
      ],
      "execution_count": 84,
      "outputs": [
        {
          "output_type": "stream",
          "name": "stdout",
          "text": [
            "max-flow =  8\n"
          ]
        },
        {
          "output_type": "display_data",
          "data": {
            "image/png": "[encoded data removed]",
            "text/plain": [
              "<Figure size 720x288 with 2 Axes>"
            ]
          },
          "metadata": {}
        }
      ]
    },
    {
      "cell_type": "markdown",
      "metadata": {
        "id": "xu4AwVo3N_WD"
      },
      "source": [
        "## Exercise 2.d"
      ]
    },
    {
      "cell_type": "markdown",
      "metadata": {
        "id": "b7hiYo7GPdtD"
      },
      "source": [
        "There are 2 copies of book 'b3' that is required only from 'p2', while there are 2 copies of book 'b1' that is required from 'p1', 'p3', 'p4'. \n",
        "\n",
        "So, to maximize the number of assigned books 1 copy of 'b2' should be sold and 1 copy of 'b1' should be bought.\n",
        "\n",
        "Doing so:"
      ]
    },
    {
      "cell_type": "code",
      "metadata": {
        "id": "b6BUOgeePdfI",
        "colab": {
          "base_uri": "https://localhost:8080/",
          "height": 337
        },
        "outputId": "f39f722b-f5e6-455b-8610-7c1fc5025c5b"
      },
      "source": [
        "Gc['b3']['d']['capacity'] = 1\n",
        "Gc['b1']['d']['capacity'] = 3\n",
        "\n",
        "### finding max flow and printing the matching graph\n",
        "value, flow = nx.algorithms.flow.maximum_flow(Gc, 'o', 'd', capacity='capacity')\n",
        "new_edges = [(el,f) for el in flow for f in flow[el] if flow[el][f]!= 0]\n",
        "matchingGraphC = nx.DiGraph()\n",
        "matchingGraphC.add_nodes_from(nodes)\n",
        "matchingGraphC.add_edges_from(new_edges)\n",
        "labels = nx.get_edge_attributes(matchingGraphC,'capacity')\n",
        "matchingGraphC.remove_nodes_from(['o','d'])\n",
        "pos = {'p1': (40, 20), 'p2': (40, 40), 'p3': (40, 60), 'p4': (40, 80), 'b1': (80, 20), 'b2': (80, 40), 'b3': (80, 60), 'b4': (80, 80)}\n",
        "#nx.draw_networkx_edge_labels(matchingGraphC, pos, edge_labels = labels)\n",
        "nx.draw(matchingGraphC, pos, **options, with_labels=True)\n",
        "ax= plot.gca()\n",
        "ax.collections[0].set_edgecolor(\"black\")\n",
        "print(\"max-flow = \", value)"
      ],
      "execution_count": 85,
      "outputs": [
        {
          "output_type": "stream",
          "name": "stdout",
          "text": [
            "max-flow =  9\n"
          ]
        },
        {
          "output_type": "display_data",
          "data": {
            "image/png": "[encoded data removed]",
            "text/plain": [
              "<Figure size 432x288 with 1 Axes>"
            ]
          },
          "metadata": {}
        }
      ]
    },
    {
      "cell_type": "markdown",
      "metadata": {
        "id": "JF3r1W3EeZ8-"
      },
      "source": [
        "# Exercise 3"
      ]
    },
    {
      "cell_type": "code",
      "metadata": {
        "id": "LNgZ9Bo3ej2w"
      },
      "source": [
        "from scipy import io\n",
        "import numpy as np\n",
        "import cvxpy as cp\n",
        "\n",
        "file = io.loadmat('capacities.mat')\n",
        "capacities = file.get('capacities')\n",
        "capacities = capacities.reshape(28,)\n",
        "file = io.loadmat('traveltime.mat')\n",
        "traveltime = file.get('traveltime')\n",
        "traveltime = traveltime.reshape(28,)\n",
        "file = io.loadmat('flow.mat')\n",
        "flow = file.get('flow')\n",
        "flow = flow.reshape(28,)\n",
        "file = io.loadmat('traffic.mat')\n",
        "traffic = file.get('traffic')\n",
        "\n",
        "#print(\"traffic: \\n\", traffic)\n",
        "#print(\"flow: \\n\", flow)\n",
        "#print(\"travel time: \\n\", traveltime)\n",
        "#print(\"capacities: \\n\", capacities)\n",
        "\n"
      ],
      "execution_count": 87,
      "outputs": []
    },
    {
      "cell_type": "markdown",
      "metadata": {
        "id": "Xb_ogGLsefJl"
      },
      "source": [
        "## Exercise 3.a"
      ]
    },
    {
      "cell_type": "code",
      "metadata": {
        "id": "NV_pgCeRrAOj",
        "colab": {
          "base_uri": "https://localhost:8080/"
        },
        "outputId": "78e11890-88b2-4550-fa3a-0b4f78a3d30f"
      },
      "source": [
        "B = traffic\n",
        "n_edges = traffic.shape[1]\n",
        "n_nodes = traffic.shape[0]\n",
        "tau = 1\n",
        "tmp = np.zeros(n_nodes)\n",
        "tmp[0] = 1\n",
        "tmp[-1] = -1\n",
        "nu = tmp * tau\n",
        "# l stores the coefficients of the linear terms of the objective function, in this case the length of the links.\n",
        "# In this case, the objective function is\n",
        "l = traveltime\n",
        "\n",
        "# Construct the problem.\n",
        "f = cp.Variable(n_edges)\n",
        "objective = cp.Minimize(l.T @ f)\n",
        "constraints = [B @ f == nu, f >=0]\n",
        "prob = cp.Problem(objective, constraints)\n",
        "\n",
        "# The optimal objective value is returned by `prob.solve()`.\n",
        "result = prob.solve()\n",
        "# The optimal value for f is stored in `f.value`.\n",
        "print(\"Optimal f:\",  np.around(f.value, decimals=0, out=None))"
      ],
      "execution_count": 169,
      "outputs": [
        {
          "output_type": "stream",
          "name": "stdout",
          "text": [
            "Optimal f: [1. 1. 0. 0. 0. 0. 0. 0. 1. 0. 0. 1. 0. 0. 0. 0. 0. 0. 0. 0. 0. 0. 0. 0.\n",
            " 1. 0. 0. 0.]\n"
          ]
        }
      ]
    },
    {
      "cell_type": "markdown",
      "metadata": {
        "id": "MsOonbudsioX"
      },
      "source": [
        "e1, e2, e9, e12, e25"
      ]
    },
    {
      "cell_type": "markdown",
      "metadata": {
        "id": "HAUflpphbJEF"
      },
      "source": [
        "## Exercise 3.b"
      ]
    },
    {
      "cell_type": "code",
      "metadata": {
        "id": "cZlnzu-Ct7O5"
      },
      "source": [
        "edges = []\n",
        "for (i,col) in enumerate(B.T):\n",
        "  tail = -1\n",
        "  haed = -1\n",
        "  for (j,row) in enumerate(col):\n",
        "    x=B.T[i][j]\n",
        "    if x == 1:\n",
        "      tail = j+1\n",
        "    elif x ==-1:\n",
        "      haed = j+1\n",
        "    if tail!=-1 and haed !=-1:\n",
        "      edges.append(tuple([tail,haed]))\n",
        "      break\n",
        "\n",
        "nodes = list(range(1, 18))\n",
        "edges_cap = [tuple([e[0], e[1], {'capacity':c}]) for (e, c) in zip(edges,capacities)]"
      ],
      "execution_count": 170,
      "outputs": []
    },
    {
      "cell_type": "code",
      "metadata": {
        "id": "Kor-hGHi-wR7"
      },
      "source": [
        "G = nx.DiGraph()\n",
        "G.add_edges_from(edges_cap)\n",
        "G.add_nodes_from(nodes)\n",
        "value, Gflow = nx.algorithms.flow.maximum_flow(G, 1, 17, capacity='capacity')"
      ],
      "execution_count": 171,
      "outputs": []
    },
    {
      "cell_type": "code",
      "metadata": {
        "id": "_wOC7M9x__0Q",
        "colab": {
          "base_uri": "https://localhost:8080/"
        },
        "outputId": "e5e4b8a7-b4cd-4d4f-f6fc-8e139ff3b04d"
      },
      "source": [
        "found_flow = np.zeros(n_edges)\n",
        "for el in Gflow:\n",
        "  for f in Gflow[el]:\n",
        "    t = tuple([el,f])\n",
        "    index = edges.index(t)\n",
        "    found_flow[index] = Gflow[el][f]\n",
        "\n",
        "print(\"Max flow is: \", value)\n",
        "print(\"With flow vector: \", list(found_flow.astype(np.int32)))"
      ],
      "execution_count": 172,
      "outputs": [
        {
          "output_type": "stream",
          "name": "stdout",
          "text": [
            "Max flow is:  22448\n",
            "With flow vector:  [8741, 8741, 0, 0, 13707, 4624, 4624, 4624, 6297, 0, 0, 8741, 0, 0, 9083, 825, 8258, 0, 0, 7068, 825, 7893, 3835, 0, 10355, 3835, 8258, 8258]\n"
          ]
        }
      ]
    },
    {
      "cell_type": "markdown",
      "metadata": {
        "id": "B5yU8kkObNTb"
      },
      "source": [
        "## Exercise 3.c"
      ]
    },
    {
      "cell_type": "code",
      "metadata": {
        "id": "LTz59yLmLcHw",
        "colab": {
          "base_uri": "https://localhost:8080/"
        },
        "outputId": "4fd4d2ce-0db6-4fe3-ac86-73317106b773"
      },
      "source": [
        "v = B @ flow\n",
        "inflow = [el if el > 0 else 0 for el in v ]\n",
        "print(\"The external inflow relative to the given flow f is: v_+ = \",inflow)"
      ],
      "execution_count": 173,
      "outputs": [
        {
          "output_type": "stream",
          "name": "stdout",
          "text": [
            "The external inflow relative to the given flow f is: v_+ =  [16806, 8570, 19448, 4957, 0, 4768, 413, 0, 0, 1169, 0, 0, 0, 0, 0, 0, 0]\n"
          ]
        }
      ]
    },
    {
      "cell_type": "markdown",
      "metadata": {
        "id": "Y0OjJnR5b6vB"
      },
      "source": [
        "## Exercise 3.d"
      ]
    },
    {
      "cell_type": "code",
      "metadata": {
        "id": "MUKpd8mDb9tS",
        "colab": {
          "base_uri": "https://localhost:8080/"
        },
        "outputId": "fd36ff4b-ab33-49a5-d2a6-9027f2045ee8"
      },
      "source": [
        "# Problem data.\n",
        "\n",
        "# compute node_edge incidence matrix\n",
        "# +1 if the node is the source (tail) of an edge \n",
        "# and -1 if it is the destination (head) of the edge.\n",
        "B = traffic\n",
        "n_edges = B.shape[1]\n",
        "\n",
        "# exogenous flow vector: one unit of flow enters the origin and \n",
        "# exits the destination node\n",
        "nu = np.zeros(v.shape[0])\n",
        "nu[0] = v[0]\n",
        "nu[-1] = -v[0]\n",
        "# Q and l store the coefficients of the quadratic\n",
        "# and linear terms of the objective function.\n",
        "# In this case, the objective function is\n",
        "# f_1^2 + f_2\n",
        "c = capacities # diagonal matrix\n",
        "l = traveltime # 1d array\n",
        "\n",
        "# Construct the problem.\n",
        "f = cp.Variable(n_edges)\n",
        "function = cp.sum(cp.multiply(cp.multiply(l,c),cp.inv_pos(1 - f/c))- cp.multiply(l,c))\n",
        "objective = cp.Minimize(function)\n",
        "constraints = [B @ f == nu, f >=0, f<=c]\n",
        "prob = cp.Problem(objective, constraints)\n",
        "\n",
        "# The optimal objective value is returned by `prob.solve()`.\n",
        "cost_opt = prob.solve()\n",
        "# The optimal value for f is stored in `f.value`.\n",
        "opt_flow = f.value\n",
        "print(\"Social optimal flow:\", np.around(opt_flow, decimals=0, out=None))\n",
        "print(\"Optimal cost:\", np.around(cost_opt, decimals=2, out=None))\n",
        "social_opt = f"
      ],
      "execution_count": 174,
      "outputs": [
        {
          "output_type": "stream",
          "name": "stdout",
          "text": [
            "Social optimal flow: [ 6642.  6059.  3132.  3132. 10164.  4638.  3006.  2543.  3132.   583.\n",
            "     0.  2927.     0.  3132.  5525.  2854.  4886.  2215.   464.  2338.\n",
            "  3318.  5656.  2373.     0.  6414.  5505.  4886.  4886.]\n",
            "Optimal cost: 25943.61\n"
          ]
        }
      ]
    },
    {
      "cell_type": "markdown",
      "metadata": {
        "id": "-JIbiRvpauhG"
      },
      "source": [
        "## Exercise 3.e"
      ]
    },
    {
      "cell_type": "code",
      "metadata": {
        "id": "PDSzi1xxawsF",
        "colab": {
          "base_uri": "https://localhost:8080/"
        },
        "outputId": "9007b0e3-8c68-42b2-ab47-54237d216670"
      },
      "source": [
        "B = traffic\n",
        "n_edges = B.shape[1]\n",
        "\n",
        "# exogenous flow vector: one unit of flow enters the origin and \n",
        "# exits the destination node\n",
        "nu = np.zeros(v.shape[0])\n",
        "nu[0] = v[0]\n",
        "nu[-1] = -v[0]\n",
        "# Q and l store the coefficients of the quadratic\n",
        "# and linear terms of the objective function.\n",
        "c = capacities\n",
        "l = traveltime\n",
        "\n",
        "# Construct the problem.\n",
        "f = cp.Variable(n_edges)\n",
        "function = cp.sum(-cp.multiply(cp.multiply(c,l),cp.log(1-cp.multiply(f,cp.inv_pos(c)))))\n",
        "objective = cp.Minimize(function)\n",
        "constraints = [B @ f == nu, f >=0, f<=c]\n",
        "prob = cp.Problem(objective, constraints)\n",
        "\n",
        "# The optimal objective value is returned by `prob.solve()`.\n",
        "result_w = prob.solve()\n",
        "# The optimal value for f is stored in `f.value`.\n",
        "print(\"Wardrop equilibrium:\", np.around(f.value, decimals=2, out=None))\n",
        "\n",
        "wardrop_f = f\n",
        "wardrop_cost = sum(wardrop_f.value*l/(1 - wardrop_f.value/c))\n",
        "print(\"Wardrop cost: \", wardrop_cost)"
      ],
      "execution_count": 175,
      "outputs": [
        {
          "output_type": "stream",
          "name": "stdout",
          "text": [
            "Wardrop equilibrium: [ 6715.65  6715.65  2367.41  2367.41 10090.35  4645.39  2803.84  2283.56\n",
            "  3418.48     0.     176.83  4171.41     0.    2367.41  5444.96  2353.17\n",
            "  4933.34  1841.55   697.11  3036.49  3050.28  6086.77  2586.51     0.\n",
            "  6918.74  4953.92  4933.34  4933.34]\n",
            "Wardrop cost:  26292.96387462939\n"
          ]
        }
      ]
    },
    {
      "cell_type": "markdown",
      "metadata": {
        "id": "OzHM_0pMhrYW"
      },
      "source": [
        "## Exercise 3.e(2)"
      ]
    },
    {
      "cell_type": "code",
      "metadata": {
        "id": "7yZXw8qahuXf",
        "colab": {
          "base_uri": "https://localhost:8080/"
        },
        "outputId": "1cf08bc4-b86f-431e-b01b-a0d5ba9cfadd"
      },
      "source": [
        "B = traffic\n",
        "n_edges = B.shape[1]\n",
        "\n",
        "# exogenous flow vector: one unit of flow enters the origin and \n",
        "# exits the destination node\n",
        "nu = np.zeros(v.shape[0])\n",
        "nu[0] = v[0]\n",
        "nu[-1] = -v[0]\n",
        "# Q and l store the coefficients of the quadratic\n",
        "# and linear terms of the objective function.\n",
        "c = capacities\n",
        "l = traveltime\n",
        "\n",
        "# Construct the problem.\n",
        "f = cp.Variable(n_edges)\n",
        "d_prime = cp.multiply(cp.multiply(l,c),cp.inv_pos(cp.power((c - social_opt.value),2)))\n",
        "omega = cp.multiply(social_opt.value,d_prime)\n",
        "function = cp.sum(-cp.multiply(cp.multiply(c,l),cp.log(1-cp.multiply(f,cp.inv_pos(c)))) + cp.multiply(f,omega))\n",
        "objective = cp.Minimize(function)\n",
        "constraints = [B @ f == nu, f >=0, f<=c]\n",
        "prob = cp.Problem(objective, constraints)\n",
        "\n",
        "# The optimal objective value is returned by `prob.solve()`.\n",
        "result_w = prob.solve()\n",
        "# The optimal value for f is stored in `f.value`.\n",
        "print(\"Wardrop equilibrium with tolls:\", np.around(f.value, decimals=2, out=None))\n",
        "tolls_f = f\n",
        "wardrop_tolls_cost = sum(tolls_f.value*l/(1 - tolls_f.value/c))\n",
        "print(\"Wardrop cost with tolls: \", wardrop_tolls_cost)"
      ],
      "execution_count": 176,
      "outputs": [
        {
          "output_type": "stream",
          "name": "stdout",
          "text": [
            "Wardrop equilibrium with tolls: [ 6642.98  6059.08  3132.47  3132.47 10163.02  4638.26  3006.32  2542.34\n",
            "  3131.49   583.9      0.    2926.61     0.    3132.47  5524.77  2854.23\n",
            "  4886.37  2215.83   463.99  2337.46  3318.21  5655.67  2373.04     0.\n",
            "  6414.12  5505.51  4886.37  4886.37]\n",
            "Wardrop cost with tolls:  25943.62242759806\n"
          ]
        }
      ]
    },
    {
      "cell_type": "markdown",
      "metadata": {
        "id": "tYt0AsnC6Os_"
      },
      "source": [
        "## Exercise 3.f\n"
      ]
    },
    {
      "cell_type": "code",
      "metadata": {
        "id": "3MlpjZTj6RHB",
        "colab": {
          "base_uri": "https://localhost:8080/"
        },
        "outputId": "d995faf0-f1ba-4af7-b8bf-167a6bcc4878"
      },
      "source": [
        "B = traffic\n",
        "n_edges = B.shape[1]\n",
        "\n",
        "# exogenous flow vector: one unit of flow enters the origin and \n",
        "# exits the destination node\n",
        "nu = np.zeros(v.shape[0])\n",
        "nu[0] = v[0]\n",
        "nu[-1] = -v[0]\n",
        "# Q and l store the coefficients of the quadratic\n",
        "# and linear terms of the objective function.\n",
        "c = capacities\n",
        "l = traveltime\n",
        "\n",
        "# Construct the problem.\n",
        "f = cp.Variable(n_edges)\n",
        "delay = cp.multiply(cp.multiply(l,c),cp.inv_pos(1 - f/c))- cp.multiply(l,c) - cp.multiply(f,l)\n",
        "function = cp.sum(delay)\n",
        "objective = cp.Minimize(function)\n",
        "constraints = [B @ f == nu, f >=0]\n",
        "prob = cp.Problem(objective, constraints)\n",
        "\n",
        "# The optimal objective value is returned by `prob.solve()`.\n",
        "result = prob.solve()\n",
        "# The optimal value for f is stored in `f.value`.\n",
        "print(\"New delay f*:\", np.around(f.value, decimals=1, out=None))\n",
        "print(\"Total cost = \", result)\n",
        "new_soc_flow = f\n",
        "new_soc_opt_value = f.value"
      ],
      "execution_count": 190,
      "outputs": [
        {
          "output_type": "stream",
          "name": "stdout",
          "text": [
            "New delay f*: [ 6653.3  5774.7  3419.7  3419.7 10152.7  4642.7  3105.8  2662.2  3009.1\n",
            "   878.6     0.   2354.9     0.   3419.7  5510.   3043.7  4881.8  2415.5\n",
            "   443.7  2008.   3487.4  5495.4  2203.8     0.   6300.7  5623.5  4881.8\n",
            "  4881.8]\n",
            "Total cost =  15095.508672309395\n"
          ]
        }
      ]
    },
    {
      "cell_type": "code",
      "metadata": {
        "id": "-K3EXVxGCv1f",
        "colab": {
          "base_uri": "https://localhost:8080/"
        },
        "outputId": "19930ee0-af6c-488a-bef8-ab0add016bc9"
      },
      "source": [
        "## wardrop con nuovo costo e senza tolls\n",
        "\n",
        "B = traffic\n",
        "n_edges = B.shape[1]\n",
        "\n",
        "# exogenous flow vector: one unit of flow enters the origin and \n",
        "# exits the destination node\n",
        "nu = np.zeros(v.shape[0])\n",
        "nu[0] = v[0]\n",
        "nu[-1] = -v[0]\n",
        "# Q and l store the coefficients of the quadratic\n",
        "# and linear terms of the objective function.\n",
        "c = capacities\n",
        "l = traveltime\n",
        "\n",
        "# Construct the problem.\n",
        "f = cp.Variable(n_edges)\n",
        "function = cp.sum(-cp.multiply(cp.multiply(c,l),cp.log(1-cp.multiply(f,cp.inv_pos(c)))) - cp.multiply(f,l))\n",
        "objective = cp.Minimize(function)\n",
        "constraints = [B @ f == nu, f >=0, f<=c]\n",
        "prob = cp.Problem(objective, constraints)\n",
        "\n",
        "# The optimal objective value is returned by `prob.solve()`.\n",
        "new_result_w = prob.solve()\n",
        "# The optimal value for f is stored in `f.value`.\n",
        "print(\"New Wardrop equilibrium:\", np.around(f.value, decimals=2, out=None))\n",
        "new_wardrop_f = f\n",
        "new_wardrop_cost = sum(new_wardrop_f.value*l/(1 - new_wardrop_f.value/c) - new_wardrop_f.value*l)\n",
        "print(\"New Wardrop cost: \", new_wardrop_cost)"
      ],
      "execution_count": 200,
      "outputs": [
        {
          "output_type": "stream",
          "name": "stdout",
          "text": [
            "New Wardrop equilibrium: [6.781720e+03 6.004900e+03 3.266270e+03 3.266250e+03 1.002428e+04\n",
            " 4.665560e+03 3.028900e+03 2.641040e+03 3.038820e+03 7.768200e+02\n",
            " 2.403100e+02 2.498320e+03 2.000000e-02 3.266250e+03 5.358720e+03\n",
            " 2.881520e+03 4.890690e+03 2.413490e+03 6.281700e+02 2.100550e+03\n",
            " 3.509690e+03 5.610240e+03 2.262590e+03 0.000000e+00 6.386470e+03\n",
            " 5.528840e+03 4.890690e+03 4.890690e+03]\n",
            "New Wardrop cost:  15148.086835153885\n"
          ]
        }
      ]
    },
    {
      "cell_type": "markdown",
      "metadata": {
        "id": "fh1q9KDMmUbF"
      },
      "source": [
        "We defined the new delay as $ \\tau_e = d_e(f_e^*) - l_e $\n",
        "\n",
        "To have the wardrop flow with tolls coincide with the system optimum the tolls have to be: $ω^*_e = f^*_e \\tau'_e(f^*_e)$\n",
        "\n",
        "Defining tolls in that way the objective function is: \n",
        "$$ \\tau'_e = \\frac{l_e c_e}{(c_e-f_e^*)^2} $$"
      ]
    },
    {
      "cell_type": "code",
      "metadata": {
        "id": "p8zgOCs0wrab",
        "outputId": "9049ebc6-0ff1-40c7-bd3a-2d525ba0e47d",
        "colab": {
          "base_uri": "https://localhost:8080/"
        }
      },
      "source": [
        "## wardrop con nuovo costo e senza tolls\n",
        "\n",
        "B = traffic\n",
        "n_edges = B.shape[1]\n",
        "\n",
        "# exogenous flow vector: one unit of flow enters the origin and \n",
        "# exits the destination node\n",
        "nu = np.zeros(v.shape[0])\n",
        "nu[0] = v[0]\n",
        "nu[-1] = -v[0]\n",
        "# Q and l store the coefficients of the quadratic\n",
        "# and linear terms of the objective function.\n",
        "c = capacities\n",
        "l = traveltime\n",
        "\n",
        "# Construct the problem.\n",
        "f = cp.Variable(n_edges)\n",
        "d_prime = cp.multiply(cp.multiply(l,c),cp.inv_pos(cp.power((c - new_soc_opt_value),2)))\n",
        "omega = cp.multiply(new_soc_opt_value,d_prime)\n",
        "function = cp.sum(-cp.multiply(cp.multiply(c,l),cp.log(1-cp.multiply(f,cp.inv_pos(c)))) - cp.multiply(f,l) + cp.multiply(f,omega))\n",
        "objective = cp.Minimize(function)\n",
        "constraints = [B @ f == nu, f >=0, f<=c]\n",
        "prob = cp.Problem(objective, constraints)\n",
        "\n",
        "# The optimal objective value is returned by `prob.solve()`.\n",
        "new_result_w = prob.solve()\n",
        "# The optimal value for f is stored in `f.value`.\n",
        "print(\"New Wardrop equilibrium:\", np.around(f.value, decimals=2, out=None))\n",
        "new_wardrop_f = f\n",
        "new_wardrop_cost = sum(new_wardrop_f.value*l/(1 - new_wardrop_f.value/c) - new_wardrop_f.value*l)\n",
        "print(\"New Wardrop cost: \", new_wardrop_cost)"
      ],
      "execution_count": 202,
      "outputs": [
        {
          "output_type": "stream",
          "name": "stdout",
          "text": [
            "New Wardrop equilibrium: [ 6653.37  5775.47  3419.42  3419.42 10152.63  4642.73  3105.5   2661.73\n",
            "  3009.22   877.9      0.    2356.05     0.    3419.42  5509.9   3043.32\n",
            "  4881.71  2415.13   443.77  2008.56  3487.09  5495.65  2204.03     0.\n",
            "  6300.84  5623.45  4881.71  4881.71]\n",
            "New Wardrop cost:  15095.512806188253\n"
          ]
        }
      ]
    }
  ]
}