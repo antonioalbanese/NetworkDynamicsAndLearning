{
  "nbformat": 4,
  "nbformat_minor": 0,
  "metadata": {
    "colab": {
      "name": "HW1.ipynb",
      "provenance": [],
      "collapsed_sections": [],
      "authorship_tag": "ABX9TyN0NC8fx9jwUKKhzwLzy8Gn",
      "include_colab_link": true
    },
    "kernelspec": {
      "display_name": "Python 3",
      "name": "python3"
    },
    "language_info": {
      "name": "python"
    }
  },
  "cells": [
    {
      "cell_type": "markdown",
      "metadata": {
        "id": "view-in-github",
        "colab_type": "text"
      },
      "source": [
        "<a href=\"https://colab.research.google.com/github/antonioalbanese/NetworkDynamicsAndLearning/blob/main/HW1.ipynb\" target=\"_parent\"><img src=\"https://colab.research.google.com/assets/colab-badge.svg\" alt=\"Open In Colab\"/></a>"
      ]
    },
    {
      "cell_type": "code",
      "metadata": {
        "colab": {
          "base_uri": "https://localhost:8080/",
          "height": 248
        },
        "id": "-Po3_2hpQL1S",
        "outputId": "6b4d59d7-0d04-47d7-a924-71950b3be27b"
      },
      "source": [
        "import networkx as nx\n",
        "import matplotlib.pyplot as plt\n",
        "%matplotlib inline\n",
        "\n",
        "nodes = ['o', 'a', 'b', 'd']\n",
        "edges = [('o','a',{'capacity':3}), ('o','b',{'capacity':2}), ('a','b',{'capacity':2}), ('a','d',{'capacity':3}), ('b','d',{'capacity':2})]\n",
        "\n",
        "G = nx.DiGraph()\n",
        "G.add_nodes_from(nodes)\n",
        "G.add_edges_from(edges)\n",
        "pos = {'o': (40, 20), 'a': (60, 35), 'b': (60, 5), 'd': (80, 20)}\n",
        "labels = nx.get_edge_attributes(G,'capacity')\n",
        "\n",
        "plt.subplot(111)\n",
        "nx.draw_networkx_edge_labels(G, pos, edge_labels = labels)\n",
        "nx.draw(G, pos, with_labels=True, font_weight='normal')"
      ],
      "execution_count": 19,
      "outputs": [
        {
          "output_type": "display_data",
          "data": {
            "image/png": "[encoded data removed]",
            "text/plain": [
              "<Figure size 432x288 with 1 Axes>"
            ]
          },
          "metadata": {}
        }
      ]
    },
    {
      "cell_type": "markdown",
      "metadata": {
        "id": "_L6M0so_L9Xx"
      },
      "source": [
        "***Exercise 1.b*** \\\\\n",
        "*Cuts:*\n",
        "- $U=\\{o,b,a\\},U^C=\\{d\\}$ -> $C_U = 5$\n",
        "- $U=\\{o,a\\},U^C=\\{b,d\\}$ -> $C_U = 7$\n",
        "- $U=\\{o,b\\},U^C=\\{a,d\\}$ -> $C_U = 5$\n",
        "- $U=\\{o\\},U^C=\\{a,b,d\\}$ -> $C_U = 5$\n",
        "\n",
        "There are three mincuts, whose capacity is 5. \n",
        "- For the mincut $U=\\{o,b,a\\},U^C=\\{d\\}$,\n",
        "$$\n",
        "C_U = c(b,d) + c(a,d)\n",
        "$$ \n",
        "- For the mincut $U=\\{o,b\\},U^C=\\{a,d\\}$,\n",
        "$$\n",
        "C_U = c(o,a) + c(b,d)\n",
        "$$ \n",
        "- For the mincut $U=\\{o\\},U^C=\\{a,b,d\\}$,\n",
        "$$\n",
        "C_U = c(o,a) + c(o,b)\n",
        "$$ \n",
        "\n",
        "Indipendently from where we apply one more unit of capacity the max throughput cannot be improved.\n",
        "\n",
        "\n",
        "\n"
      ]
    },
    {
      "cell_type": "code",
      "metadata": {
        "id": "S1Xv4VYeanPM",
        "outputId": "51fe2ab0-5de9-467b-c558-90039c68bc05",
        "colab": {
          "base_uri": "https://localhost:8080/"
        }
      },
      "source": [
        "#trying to change on (b,d)\n",
        "old = G['b']['d']['capacity']\n",
        "G['b']['d']['capacity'] = old + 1\n",
        "value, flows = nx.algorithms.flow.maximum_flow(G, 'o', 'd', capacity='capacity')\n",
        "print(\"Adding 1 to (b,d) -> max_flow = {}\".format(value))\n",
        "#revert\n",
        "G['b']['d']['capacity'] = old \n",
        "\n",
        "#trying to change on (o,a)\n",
        "old = G['o']['a']['capacity']\n",
        "G['o']['a']['capacity'] = old + 1\n",
        "value, flows = nx.algorithms.flow.maximum_flow(G, 'o', 'd', capacity='capacity')\n",
        "print(\"Adding 1 to (o,a) -> max_flow = {}\".format(value))\n",
        "#revert\n",
        "G['o']['a']['capacity'] = old \n",
        "\n",
        "#trying to change on (a,d)\n",
        "old = G['a']['d']['capacity']\n",
        "G['a']['d']['capacity'] = old + 1\n",
        "value, flows = nx.algorithms.flow.maximum_flow(G, 'o', 'd', capacity='capacity')\n",
        "print(\"Adding 1 to (a,d) -> max_flow = {}\".format(value))\n",
        "#revert\n",
        "G['a']['d']['capacity'] = old \n",
        "\n",
        "#trying to change on (o,b)\n",
        "old = G['o']['b']['capacity']\n",
        "G['o']['b']['capacity'] = old + 1\n",
        "value, flows = nx.algorithms.flow.maximum_flow(G, 'o', 'd', capacity='capacity')\n",
        "print(\"Adding 1 to (o,b) -> max_flow = {}\".format(value))\n",
        "#revert\n",
        "G['o']['b']['capacity'] = old "
      ],
      "execution_count": 10,
      "outputs": [
        {
          "output_type": "stream",
          "name": "stdout",
          "text": [
            "Adding 1 to (b,d) -> max_flow = 5\n",
            "Adding 1 to (o,a) -> max_flow = 5\n",
            "Adding 1 to (a,d) -> max_flow = 5\n",
            "Adding 1 to (o,b) -> max_flow = 5\n"
          ]
        }
      ]
    },
    {
      "cell_type": "markdown",
      "metadata": {
        "id": "xw6OPwOVfN3T"
      },
      "source": [
        "***Exercise 1.c*** \\\\\n",
        "*Cuts:*\n",
        "- $U=\\{o,b,a\\},U^C=\\{d\\}$ -> $C_U = 5$\n",
        "- $U=\\{o,a\\},U^C=\\{b,d\\}$ -> $C_U = 7$\n",
        "- $U=\\{o,b\\},U^C=\\{a,d\\}$ -> $C_U = 5$\n",
        "- $U=\\{o\\},U^C=\\{a,b,d\\}$ -> $C_U = 5$\n",
        "\n",
        "There are three mincuts, whose capacity is 5. \\\\\n",
        "The optimum solution is to distribute de 2 units of capacity to be added. \n",
        "\n",
        "- For the mincut $U=\\{o,b,a\\},U^C=\\{d\\}$,\n",
        "$$\n",
        "C_U = c(b,d) + c(a,d) = 2 + 3\n",
        "$$ \n",
        "- For the mincut $U=\\{o,b\\},U^C=\\{a,d\\}$,\n",
        "$$\n",
        "C_U = c(o,a) + c(b,d) = 3 + 2\n",
        "$$ \n",
        "- For the mincut $U=\\{o\\},U^C=\\{a,b,d\\}$,\n",
        "$$\n",
        "C_U = c(o,a) + c(o,b) = 3 + 2\n",
        "$$ \n",
        "\n",
        "Adding 1 unit on $(b,d)$ and 1 unit on $(o,b)$ makes the maximum flow equals to 6.\n",
        "While other combinations on't change the maximum flow. \n"
      ]
    },
    {
      "cell_type": "code",
      "metadata": {
        "id": "gaPDGYaMgBVB",
        "outputId": "f892f959-ada6-475a-b884-9476c805c95c",
        "colab": {
          "base_uri": "https://localhost:8080/"
        }
      },
      "source": [
        "#trying to change on (b,d)\n",
        "old1 = G['b']['d']['capacity']\n",
        "G['b']['d']['capacity'] = old1 + 1\n",
        "old2 = G['o']['b']['capacity']\n",
        "G['o']['b']['capacity'] = old2 + 1\n",
        "value, flows = nx.algorithms.flow.maximum_flow(G, 'o', 'd', capacity='capacity')\n",
        "print(\"Adding 1 to (b,d) and 1 to (o,b) -> max_flow = {}\".format(value))\n",
        "#revert\n",
        "G['b']['d']['capacity'] = old1\n",
        "G['o']['b']['capacity'] = old2\n"
      ],
      "execution_count": 11,
      "outputs": [
        {
          "output_type": "stream",
          "name": "stdout",
          "text": [
            "Adding 1 to (b,d) and 1 to (o,b) -> max_flow = 6\n"
          ]
        }
      ]
    },
    {
      "cell_type": "code",
      "metadata": {
        "id": "8zxMZMXJ2Tf8",
        "outputId": "9fc5c8a4-b13d-44a7-cd66-a81b3fb96f12",
        "colab": {
          "base_uri": "https://localhost:8080/"
        }
      },
      "source": [
        "#trying to change on (b,d)\n",
        "old1 = G['b']['d']['capacity']\n",
        "G['b']['d']['capacity'] = old1 + 2\n",
        "old2 = G['o']['b']['capacity']\n",
        "G['o']['b']['capacity'] = old2 + 2\n",
        "value, flows = nx.algorithms.flow.maximum_flow(G, 'o', 'd', capacity='capacity')\n",
        "print(\"Adding 2 to (b,d) and 2 to (o,b) -> max_flow = {}\".format(value))\n",
        "#revert\n",
        "G['b']['d']['capacity'] = old1\n",
        "G['o']['b']['capacity'] = old2"
      ],
      "execution_count": 21,
      "outputs": [
        {
          "output_type": "stream",
          "name": "stdout",
          "text": [
            "Adding 2 to (b,d) and 2 to (o,b) -> max_flow = 7\n"
          ]
        }
      ]
    },
    {
      "cell_type": "code",
      "metadata": {
        "id": "q7X28ESfDrFk"
      },
      "source": [
        "def remake_cut():\n",
        "  global min_cut\n",
        "  global edges\n",
        "  cut1 = edges['bd'] + edges['ad']\n",
        "  cut2 = edges['ob'] + edges['ab'] + edges['ad']\n",
        "  cut3 = edges['oa'] + edges['bd']\n",
        "  cut4 = edges['oa'] + edges['ob']\n",
        "  min_c = min(cut1, cut2, cut3, cut4)\n",
        "  tmp = edges.copy()\n",
        "  if min_c > min_cut:\n",
        "    optimal_cuts.pop(min_cut, None)\n",
        "    optimal_edges.pop(min_cut, None)\n",
        "    min_cut = min_c\n",
        "\n",
        "  if min_cut not in optimal_cuts:\n",
        "    optimal_cuts[min_cut] = [tuple([cut1, cut2, cut3, cut4])]\n",
        "    optimal_edges[min_cut] = [tmp]\n",
        "  else:\n",
        "    optimal_cuts[min_cut].append(tuple([cut1, cut2, cut3, cut4]))\n",
        "    optimal_edges[min_cut].append(tmp)\n",
        "\n",
        "def compute(to_add):\n",
        "  global edges\n",
        "  for el in edges:\n",
        "    if to_add == 0:\n",
        "      #print(edges)\n",
        "      remake_cut()\n",
        "      #check(edges)\n",
        "      return\n",
        "    else:\n",
        "      edges[el] = edges[el]+1\n",
        "      compute(to_add-1)\n",
        "    edges[el] = edges[el]-1  \n"
      ],
      "execution_count": 215,
      "outputs": []
    },
    {
      "cell_type": "markdown",
      "metadata": {
        "id": "OJNo5YBA1Q6R"
      },
      "source": [
        "***Exercise 1.d*** \\\\\n",
        "*Cuts:*\n",
        "- $U=\\{o,b,a\\},U^C=\\{d\\}$ -> $C_U = 5$ -> $C_U = c(b,d) + c(a,d) = 2 + 3$ \n",
        "- $U=\\{o,a\\},U^C=\\{b,d\\}$ -> $C_U = 7$ -> $C_U = c(o,b) + c(a,b) + c(a,d) = 2 + 2 + 3$ \n",
        "- $U=\\{o,b\\},U^C=\\{a,d\\}$ -> $C_U = 5$ -> $C_U = c(o,a) + c(b,d) = 3 + 2$\n",
        "- $U=\\{o\\},U^C=\\{a,b,d\\}$ -> $C_U = 5$ -> $C_U = c(o,a) + c(o,b) = 3 + 2$ \n",
        "\n",
        "\n",
        "The max-throughput reachable adding 4 units of capacity is 7.\n",
        "The max sum of the cut capacities is 30. One of the configurations that gives that is \n",
        "$$ \n",
        "\\begin{cases}\n",
        "c(a,b)= 2 \\\\ \n",
        "c(a,d)= 3 \\\\ \n",
        "c(b,d)= 4 \\\\\n",
        "c(o,a)= 3 \\\\ \n",
        "c(o,b)=4 \n",
        "\\end{cases}$$\n",
        "\n",
        "that gives the following cuts: \n",
        "- $U=\\{o,b,a\\},U^C=\\{d\\}$ -> $C_U = c(b,d) + c(a,d) = 4 + 3 = 7$ \n",
        "- $U=\\{o,a\\},U^C=\\{b,d\\}$ -> $C_U = c(o,b) + c(a,b) + c(a,d) = 4 + 2 + 3 = 9$ \n",
        "- $U=\\{o,b\\},U^C=\\{a,d\\}$ -> $C_U = c(o,a) + c(b,d) = 3 + 4 = 7$ \n",
        "- $U=\\{o\\},U^C=\\{a,b,d\\}$ -> $C_U = c(o,a) + c(o,b) = 3 + 4 = 7$ \n"
      ]
    },
    {
      "cell_type": "code",
      "metadata": {
        "id": "IFdaImb0E83S",
        "outputId": "2b0e2639-cef7-471d-8d62-824411157c5b",
        "colab": {
          "base_uri": "https://localhost:8080/"
        }
      },
      "source": [
        "min_cut = 0\n",
        "to_add = 4\n",
        "optimal_cuts = {\n",
        "    0:[]\n",
        "}\n",
        "optimal_edges = {\n",
        "    0:[]\n",
        "}\n",
        "edges = dict({\n",
        "  'bd' : 2,\n",
        "  'ad' : 3,\n",
        "  'ob' : 2,\n",
        "  'ab' : 2,\n",
        "  'oa' : 3\n",
        "})\n",
        "\n",
        "compute(to_add)\n",
        "\n",
        "sums = optimal_cuts[max(optimal_cuts.keys())]\n",
        "sums = [sum(el) for el in sums]\n",
        "index = sums.index(max(sums))\n",
        "optimal_set_of_edges = optimal_edges[max(optimal_cuts.keys())][index]\n",
        "print(\"optimal edges: \",optimal_set_of_edges)\n",
        "print(\"optimal cut: \", optimal_cuts[max(optimal_cuts.keys())][index])"
      ],
      "execution_count": 224,
      "outputs": [
        {
          "output_type": "stream",
          "name": "stdout",
          "text": [
            "optimal edges:  {'bd': 4, 'ad': 3, 'ob': 4, 'ab': 2, 'oa': 3}\n",
            "optimal cut:  (7, 9, 7, 7)\n"
          ]
        }
      ]
    }
  ]
}