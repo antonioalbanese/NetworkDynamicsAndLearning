{
  "nbformat": 4,
  "nbformat_minor": 0,
  "metadata": {
    "colab": {
      "name": "HW1.ipynb",
      "provenance": [],
      "collapsed_sections": [],
      "authorship_tag": "ABX9TyPE6bADkNh8GgxZNKYflsuL",
      "include_colab_link": true
    },
    "kernelspec": {
      "display_name": "Python 3",
      "name": "python3"
    },
    "language_info": {
      "name": "python"
    }
  },
  "cells": [
    {
      "cell_type": "markdown",
      "metadata": {
        "id": "view-in-github",
        "colab_type": "text"
      },
      "source": [
        "<a href=\"https://colab.research.google.com/github/antonioalbanese/NetworkDynamicsAndLearning/blob/main/HW1.ipynb\" target=\"_parent\"><img src=\"https://colab.research.google.com/assets/colab-badge.svg\" alt=\"Open In Colab\"/></a>"
      ]
    },
    {
      "cell_type": "code",
      "metadata": {
        "colab": {
          "base_uri": "https://localhost:8080/",
          "height": 248
        },
        "id": "-Po3_2hpQL1S",
        "outputId": "f138f684-0588-4946-f067-ef8c9f22713a"
      },
      "source": [
        "import networkx as nx\n",
        "import matplotlib.pyplot as plt\n",
        "%matplotlib inline\n",
        "\n",
        "nodes = ['o', 'a', 'b', 'd']\n",
        "edges = [('o','a',{'capacity':3}), ('o','b',{'capacity':2}), ('a','b',{'capacity':2}), ('a','d',{'capacity':3}), ('b','d',{'capacity':2})]\n",
        "\n",
        "G = nx.DiGraph()\n",
        "G.add_nodes_from(nodes)\n",
        "G.add_edges_from(edges)\n",
        "pos = nx.spring_layout(G)\n",
        "labels = nx.get_edge_attributes(G,'capacity')\n",
        "\n",
        "plt.subplot(121)\n",
        "nx.draw_networkx_edge_labels(G, pos, edge_labels = labels)\n",
        "nx.draw(G, pos, with_labels=True, font_weight='bold')"
      ],
      "execution_count": 52,
      "outputs": [
        {
          "output_type": "display_data",
          "data": {
            "image/png": "[encoded data removed]",
            "text/plain": [
              "<Figure size 432x288 with 1 Axes>"
            ]
          },
          "metadata": {}
        }
      ]
    },
    {
      "cell_type": "markdown",
      "metadata": {
        "id": "_L6M0so_L9Xx"
      },
      "source": [
        "***Exercise 1.b*** \\\\\n",
        "*Cuts:*\n",
        "- $U=\\{o,b,a\\},U^C=\\{d\\}$ -> $C_U = 5$\n",
        "- $U=\\{o,a\\},U^C=\\{b,d\\}$ -> $C_U = 4$\n",
        "- $U=\\{o,b\\},U^C=\\{a,d\\}$ -> $C_U = 5$\n",
        "- $U=\\{o\\},U^C=\\{a,b,d\\}$ -> $C_U = 5$\n",
        "\n",
        "Min Cut is $U=\\{o,a\\},U^C=\\{b,d\\}$ with capacity $C_U = 4$"
      ]
    },
    {
      "cell_type": "code",
      "metadata": {
        "colab": {
          "base_uri": "https://localhost:8080/"
        },
        "id": "hVedgHw_LnQn",
        "outputId": "27e41886-446f-4fba-c31e-42f5d5996054"
      },
      "source": [
        ""
      ],
      "execution_count": 5,
      "outputs": [
        {
          "output_type": "execute_result",
          "data": {
            "text/plain": [
              "(2, ({'a', 'b', 'o'}, {'d'}))"
            ]
          },
          "metadata": {},
          "execution_count": 5
        }
      ]
    }
  ]
}