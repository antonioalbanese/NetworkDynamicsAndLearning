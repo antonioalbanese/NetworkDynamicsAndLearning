{
  "nbformat": 4,
  "nbformat_minor": 0,
  "metadata": {
    "colab": {
      "provenance": [],
      "authorship_tag": "ABX9TyOz8wp5Uj77+s7bEPX+AkLZ",
      "include_colab_link": true
    },
    "kernelspec": {
      "name": "python3",
      "display_name": "Python 3"
    },
    "language_info": {
      "name": "python"
    }
  },
  "cells": [
    {
      "cell_type": "markdown",
      "metadata": {
        "id": "view-in-github",
        "colab_type": "text"
      },
      "source": [
        "<a href=\"https://colab.research.google.com/github/antonioalbanese/NetworkDynamicsAndLearning/blob/main/MAD_GAN.ipynb\" target=\"_parent\"><img src=\"https://colab.research.google.com/assets/colab-badge.svg\" alt=\"Open In Colab\"/></a>"
      ]
    },
    {
      "cell_type": "code",
      "execution_count": 1,
      "metadata": {
        "id": "97PQPrtaGEid"
      },
      "outputs": [],
      "source": [
        "import numpy as np\n",
        "import tensorflow as tf\n",
        "import pdb\n",
        "import random\n",
        "import json\n",
        "from scipy.stats import mode\n",
        "\n",
        "import data_utils\n",
        "import plotting\n",
        "import model\n",
        "import utils\n",
        "import eval\n",
        "import DR_discriminator\n",
        "\n",
        "from time import time\n",
        "from math import floor\n",
        "#from mmd import rbf_mmd2, median_pairwise_distance, mix_rbf_mmd2_and_ratio"
      ]
    },
    {
      "cell_type": "code",
      "source": [],
      "metadata": {
        "id": "h42KV3T9SRC1"
      },
      "execution_count": null,
      "outputs": []
    }
  ]
}